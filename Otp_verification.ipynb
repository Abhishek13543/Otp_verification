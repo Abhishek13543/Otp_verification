{
 "cells": [
  {
   "cell_type": "code",
   "execution_count": null,
   "id": "86b7f8b0-d04e-42d2-ab01-966926a7b167",
   "metadata": {},
   "outputs": [],
   "source": [
    "import random\n",
    "import smtplib\n",
    "otp = str(random.randint(100000,999999))\n",
    "smtp_server = 'smtp.gmail.com'\n",
    "smtp_port = 587\n",
    "sender_email = 'abhishekkumar13543@gmail.com'\n",
    "\n",
    "user_email = input('Enter your E-mail Id:')\n",
    "smtp_connection = smtplib.SMTP(smtp_server, smtp_port)\n",
    "smtp_connection.starttls()\n",
    "\n",
    "login_credentials = smtp_connection.login(sender_email,'nhil vvxw uszh eywa')\n",
    "\n",
    "\n",
    "if login_credentials[0] == 235:\n",
    "    message = f'subject: OTP Verification\\n\\nYour OTP is: {otp}'\n",
    "    smtp_connection.sendmail(sender_email,user_email,message)\n",
    "    print(\"OTP has been sent to your mail.\")\n",
    "\n",
    "else:\n",
    "    print(\"Error Occured while sending OTP. Authentication failed.\" )\n",
    "\n",
    "max_attempts = 3\n",
    "attempt = 1\n",
    "while attempt <= max_attempts:\n",
    "    user_input= input(\"Enter the OTP received in your email: \")\n",
    "\n",
    "    if user_input == otp:\n",
    "        print(\"Access Granted Successfully!\" )\n",
    "        break\n",
    "else:\n",
    "\n",
    "    print(\"Access Denied. Incorrect OTP.\")\n",
    "\n",
    "if attempt < max_attempts:\n",
    "    print(f'Remaining attempts: {max_attempts - attempt}')\n",
    "    attempt += 1\n",
    "\n",
    "else:\n",
    "    print(\"Maximum attempts reached. Please try again later.\" )\n",
    "\n",
    "\n",
    "smtp_connection.quit()\n"
   ]
  },
  {
   "cell_type": "code",
   "execution_count": null,
   "id": "d3deb6ce-7da0-4e98-986b-cf41fb138387",
   "metadata": {},
   "outputs": [],
   "source": []
  }
 ],
 "metadata": {
  "kernelspec": {
   "display_name": "Python 3 (ipykernel)",
   "language": "python",
   "name": "python3"
  },
  "language_info": {
   "codemirror_mode": {
    "name": "ipython",
    "version": 3
   },
   "file_extension": ".py",
   "mimetype": "text/x-python",
   "name": "python",
   "nbconvert_exporter": "python",
   "pygments_lexer": "ipython3",
   "version": "3.12.4"
  }
 },
 "nbformat": 4,
 "nbformat_minor": 5
}
